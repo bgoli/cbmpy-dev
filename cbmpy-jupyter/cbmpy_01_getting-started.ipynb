{
 "cells": [
  {
   "cell_type": "markdown",
   "metadata": {},
   "source": [
    "# CBMPy Tutorial 01 Getting Started"
   ]
  },
  {
   "cell_type": "markdown",
   "metadata": {},
   "source": [
    "## Checking dependencies and loading CBMPy"
   ]
  },
  {
   "cell_type": "markdown",
   "metadata": {},
   "source": [
    "PySCeS CBMPy is a flexible framework for contraint based modelling. With this tutorial we setup a CBMPy session and load a model. To begin with let's see if we have all the basic dependencies installed. For more information please see the CBMPy reference guide (available from http://cbmpy.sourceforge.net).\n",
    "\n",
    "No additional files are required for this tutorial."
   ]
  },
  {
   "cell_type": "code",
   "execution_count": 1,
   "metadata": {
    "collapsed": false
   },
   "outputs": [
    {
     "name": "stdout",
     "output_type": "stream",
     "text": [
      "\n",
      "You are using libSBML version 51401\n",
      "Your version of libSBML supports SBML 3 FBC versions 1 and 2.\n",
      "\n"
     ]
    }
   ],
   "source": [
    "# Required for basic CBMPy functionality\n",
    "import numpy\n",
    "\n",
    "# extended functionaliy\n",
    "import libsbml\n",
    "print('\\nYou are using libSBML version {}'.format(libsbml.LIBSBML_VERSION_STRING))\n",
    "if libsbml.LIBSBML_VERSION > 51100 and libsbml.LIBSBML_VERSION < 51106:\n",
    "    print('Your version of libSBML supports SBML 3 FBC version 1, please consider upgrading to the latest version for FBC version 2 support.\\n')\n",
    "elif libsbml.LIBSBML_VERSION >= 51106:\n",
    "    print('Your version of libSBML supports SBML 3 FBC versions 1 and 2.\\n')\n",
    "else:\n",
    "    print('You are using an extrememly old version of libSBML please upgrade now!\\n')\n",
    "    \n",
    "# optional, but highly recommended for rerading/writing excel spreadsheets\n",
    "import xlrd\n",
    "import xlwt\n",
    "# sympy is only required for methods utilizing exact arithmetic\n",
    "try:\n",
    "    import sympy\n",
    "except ImportError:\n",
    "    print('\\nSympy is only required for selected methods utilizing exact arithmetic and is not required for normal functionality.')\n",
    "    \n"
   ]
  },
  {
   "cell_type": "markdown",
   "metadata": {},
   "source": [
    "If any of of the above imports failed consider installing them. Please see the online documentation for comprehensive installation [instructions](http://cbmpy.sourceforge.net/reference/cbmpy.html). Next we need to import CBMPy, at this point it is convenient to alias the imported module. In all tutorials this will be `cbm`."
   ]
  },
  {
   "cell_type": "code",
   "execution_count": 2,
   "metadata": {
    "collapsed": false
   },
   "outputs": [
    {
     "name": "stdout",
     "output_type": "stream",
     "text": [
      "\n",
      "*****\n",
      "Using CPLEX\n",
      "*****\n",
      "\n",
      "WX GUI tools available.\n",
      "\n",
      "CBMPy environment\n",
      "******************\n",
      "Revision: r562\n",
      "\n",
      "\n",
      "***********************************************************************\n",
      "* Welcome to CBMPy (0.7.11) - PySCeS Constraint Based Modelling        *\n",
      "*                http://cbmpy.sourceforge.net                         *\n",
      "* Copyright(C) Brett G. Olivier 2014 - 2016                           *\n",
      "* Dept. of Systems Bioinformatics                                     *\n",
      "* Vrije Universiteit Amsterdam, Amsterdam, The Netherlands            *\n",
      "* CBMPy is developed as part of the BeBasic MetaToolKit Project       *\n",
      "* Distributed under the GNU GPL v 3.0 licence, see                    *\n",
      "* LICENCE (supplied with this release) for details                    *\n",
      "***********************************************************************\n",
      "\n"
     ]
    }
   ],
   "source": [
    "import cbmpy"
   ]
  },
  {
   "cell_type": "markdown",
   "metadata": {},
   "source": [
    "You should some status text and a version of the welcome screen:\n",
    "```\n",
    "***********************************************************************\n",
    "* Welcome to CBMPy (0.7.4) - PySCeS Constraint Based Modelling        *\n",
    "*                http://cbmpy.sourceforge.net                         *\n",
    "* Copyright(C) Brett G. Olivier 2014 - 2016                           *\n",
    "* Dept. of Systems Bioinformatics                                     *\n",
    "* Vrije Universiteit Amsterdam, Amsterdam, The Netherlands            *\n",
    "* CBMPy is developed as part of the BeBasic MetaToolKit Project       *\n",
    "* Distributed under the GNU GPL v 3.0 licence, see                    *\n",
    "* LICENCE (supplied with this release) for details                    *\n",
    "***********************************************************************\n",
    "```"
   ]
  },
  {
   "cell_type": "markdown",
   "metadata": {},
   "source": [
    "## Testing the installation, loading the default models"
   ]
  },
  {
   "cell_type": "markdown",
   "metadata": {},
   "source": [
    "CBMPy now includes a growing set of Nose based unittests, try run them to test your installation (this may take a few minutes) unfortunately the test runner does not seem to like the Notebook environment but try the following in a console:\n",
    "\n",
    "```import cbmpy\n",
    "cbmpy.test()```"
   ]
  },
  {
   "cell_type": "markdown",
   "metadata": {},
   "source": [
    "In addition CBMPy is also shipped with two models that can be used to test your installation and get going quickly. In order to use these models at least SBML FBC version 1 support is required and both models can be loaded using the *special* filenames: `cbmpy_test_core` and  `cbmpy_test_ecoli`.\n",
    "\n",
    "In CBMPy models are *read* from files and *instantiated* as Python objects. Here I will instantiated two model objectes from the two test files: `cmod` and `ecoli` but you can use any Python name. Note it is possible to instantiate multiple *independent* instances from the same input file."
   ]
  },
  {
   "cell_type": "code",
   "execution_count": 3,
   "metadata": {
    "collapsed": false
   },
   "outputs": [
    {
     "name": "stdout",
     "output_type": "stream",
     "text": [
      "core_memesa_model.l3.xml\n",
      "FBC version: 1\n",
      "M.getNumReactions: 26\n",
      "M.getNumSpecies: 22\n",
      "FBC.getNumObjectives: 1\n",
      "FBC.getNumGeneAssociations: 0\n",
      "FBC.getNumFluxBounds: 52\n",
      "Zero dimension compartment detected: Cell\n",
      "INFO: Active objective: objMaxJ25\n",
      "Adding objective: objMaxJ25\n",
      "\n",
      "SBML3 load time: 0.023\n",
      "\n",
      "INFO: no standard gene encoding detected, attempting to load from annotations.\n",
      "INFO: used key(s) '[]'\n",
      "INFO: Added 0 new genes and 0 associations to model\n",
      "Ecoli_iJR904.glc.l3.xml\n",
      "FBC version: 1\n",
      "M.getNumReactions: 1066\n",
      "M.getNumSpecies: 904\n",
      "FBC.getNumObjectives: 1\n",
      "FBC.getNumGeneAssociations: 1066\n",
      "FBC.getNumFluxBounds: 2132\n",
      "INFO: Active objective: obj1\n",
      "Adding objective: obj1\n",
      "\n",
      "SBML3 load time: 1.264\n",
      "\n"
     ]
    }
   ],
   "source": [
    "cmod = cbmpy.readSBML3FBC('cbmpy_test_core')\n",
    "ecoli = cbmpy.readSBML3FBC('cbmpy_test_ecoli')"
   ]
  },
  {
   "cell_type": "markdown",
   "metadata": {},
   "source": [
    "Once model objects have been instantiated they can be modified and analysed, here we will perform FBA on each model and test that CBMPy is calculating the correct result:"
   ]
  },
  {
   "cell_type": "code",
   "execution_count": 4,
   "metadata": {
    "collapsed": false
   },
   "outputs": [
    {
     "name": "stdout",
     "output_type": "stream",
     "text": [
      "\n",
      "*****\n",
      "Calculating FBA for model: core\n",
      "*****\n",
      "\n",
      "cplx_constructLPfromFBA time: 0.0090000629425\n",
      "\n",
      "\n",
      "cplx_analyzeModel FBA --> LP time: 0.0090000629425\n",
      "\n",
      "Tried aggregator 1 time.\n",
      "LP Presolve eliminated 0 rows and 4 columns.\n",
      "Aggregator did 11 substitutions.\n",
      "Reduced LP has 8 rows, 11 columns, and 20 nonzeros.\n",
      "Presolve time = 0.00 sec. (0.02 ticks)\n",
      "Initializing dual steep norms . . .\n",
      "\n",
      "Iteration log . . .\n",
      "Iteration:     1   Dual objective     =          1000.000000\n",
      "INFO: Model is optimal: 1\n",
      "Solution status =  1 : optimal\n",
      "Solution method =  2 : dual\n",
      "Objective value =  1.0\n",
      "Model is optimal\n",
      "Status: LPS_OPT\n",
      "Model is optimal\n",
      "Model is optimal\n",
      "\n",
      "analyzeModel objective value: 1.0\n",
      "\n",
      "\n",
      "*****\n",
      "Calculating FBA for model: ecoli\n",
      "*****\n",
      "\n",
      "cplx_constructLPfromFBA time: 0.0590000152588\n",
      "\n",
      "\n",
      "cplx_analyzeModel FBA --> LP time: 0.0599999427795\n",
      "\n",
      "Tried aggregator 1 time.\n",
      "LP Presolve eliminated 273 rows and 354 columns.\n",
      "Aggregator did 230 substitutions.\n",
      "Reduced LP has 258 rows, 482 columns, and 2449 nonzeros.\n",
      "Presolve time = 0.02 sec. (0.98 ticks)\n",
      "Initializing dual steep norms . . .\n",
      "\n",
      "Iteration log . . .\n",
      "Iteration:     1   Dual objective     =       1073881.855205\n",
      "Iteration:    62   Dual objective     =        207254.367443\n",
      "Iteration:   124   Dual objective     =        158540.756315\n",
      "Iteration:   186   Dual objective     =         49426.164215\n",
      "Iteration:   248   Dual objective     =             1.274029\n",
      "INFO: Model is optimal: 1\n",
      "Solution status =  1 : optimal\n",
      "Solution method =  2 : dual\n",
      "Objective value =  1.0\n",
      "Model is optimal\n",
      "Status: LPS_OPT\n",
      "Model is optimal\n",
      "Model is optimal\n",
      "\n",
      "analyzeModel objective value: 1.0\n",
      "\n",
      "\n",
      "Core model test FBA: PASSED.\n",
      " Value expected: 1.0, calculated: 1.0\n",
      "\n",
      "E. Coli model test FBA: PASSED.\n",
      " Value expected: 1.0, calculated: 1.0\n"
     ]
    }
   ],
   "source": [
    "print('\\n*****\\nCalculating FBA for model: core\\n*****')\n",
    "optcm = cbmpy.analyzeModel(cmod)\n",
    "\n",
    "print('\\n*****\\nCalculating FBA for model: ecoli\\n*****')\n",
    "optec = cbmpy.analyzeModel(ecoli)\n",
    "\n",
    "if 1.0 - abs(round(optcm, 2)) < 1.2e-10:\n",
    "    print('\\nCore model test FBA: PASSED.\\n Value expected: 1.0, calculated: {}'.format(round(optcm, 2)))\n",
    "else:\n",
    "    print('\\nCore model test FBA: FAILED.\\n Value expected: 1.0, calculated: {}'.format(round(optcm, 2)))\n",
    "if 1.0 - abs(round(optec, 2)) < 1.2e-10:\n",
    "    print('\\nE. Coli model test FBA: PASSED.\\n Value expected: 1.0, calculated: {}'.format(round(optec, 2)))\n",
    "else:\n",
    "    print('\\nE. Coli model test FBA: FAILED.\\n Value expected: 1.0, calculated: {}'.format(round(optec, 2)))\n"
   ]
  },
  {
   "cell_type": "markdown",
   "metadata": {},
   "source": [
    "If both of the above tests passed, congratulations you are ready to model with CBMPy. In tutorial 2 we will look in more detail at model ecoding formats that can be used with CBMPy."
   ]
  }
 ],
 "metadata": {
  "anaconda-cloud": {},
  "kernelspec": {
   "display_name": "Python [default]",
   "language": "python",
   "name": "python2"
  },
  "language_info": {
   "codemirror_mode": {
    "name": "ipython",
    "version": 2
   },
   "file_extension": ".py",
   "mimetype": "text/x-python",
   "name": "python",
   "nbconvert_exporter": "python",
   "pygments_lexer": "ipython2",
   "version": "2.7.12"
  }
 },
 "nbformat": 4,
 "nbformat_minor": 0
}
