{
 "cells": [
  {
   "cell_type": "markdown",
   "metadata": {},
   "source": [
    "# CBMPy Tutorial S01 working with SBML Groups"
   ]
  },
  {
   "cell_type": "markdown",
   "metadata": {
    "collapsed": true
   },
   "source": [
    "In this section I demonstrate the use of the SBML Level 3 Groups package with CBMPy. Note that, currently, for Groups support the `libsbml-experimental` bindings are required. For more information please see the CBMPy reference guide (available from http://cbmpy.sourceforge.net).\n",
    "\n",
    "Additional files needed for this tutorial: None.\n",
    "\n",
    "As always we start by importing CBMPy"
   ]
  },
  {
   "cell_type": "code",
   "execution_count": null,
   "metadata": {
    "collapsed": false
   },
   "outputs": [],
   "source": [
    "import cbmpy"
   ]
  },
  {
   "cell_type": "markdown",
   "metadata": {},
   "source": [
    "To begin let's load one of the small built-in models supplied with CBMPy: `cbmpy_test_core` and assign it to the variable `cmod`."
   ]
  },
  {
   "cell_type": "code",
   "execution_count": null,
   "metadata": {
    "collapsed": false
   },
   "outputs": [],
   "source": [
    "cmod = cbmpy.readSBML3FBC('cbmpy_test_core')"
   ]
  },
  {
   "cell_type": "markdown",
   "metadata": {
    "collapsed": true
   },
   "source": [
    "Let's take a closer look at this model."
   ]
  },
  {
   "cell_type": "code",
   "execution_count": null,
   "metadata": {
    "collapsed": false
   },
   "outputs": [],
   "source": [
    "print(cmod.getReactionIds())"
   ]
  },
  {
   "cell_type": "code",
   "execution_count": null,
   "metadata": {
    "collapsed": false
   },
   "outputs": [],
   "source": [
    "print(cmod.getSpeciesIds())"
   ]
  },
  {
   "cell_type": "markdown",
   "metadata": {},
   "source": [
    "Let's also look at the reaction annotation (this was stuff classically, and confusingly, stored in the SBML \"notes\" element)"
   ]
  },
  {
   "cell_type": "code",
   "execution_count": null,
   "metadata": {
    "collapsed": false
   },
   "outputs": [],
   "source": [
    "print([r.getAnnotations() for r in cmod.reactions])"
   ]
  },
  {
   "cell_type": "markdown",
   "metadata": {},
   "source": [
    "Note how some reactions have a `subsystem` annotation defined, let's take a look at them and extract the subsystem id's."
   ]
  },
  {
   "cell_type": "code",
   "execution_count": null,
   "metadata": {
    "collapsed": false
   },
   "outputs": [],
   "source": [
    "subsystems = []\n",
    "for R in cmod.reactions:\n",
    "    print(R.getId(), R.getAnnotation('subsystem'))\n",
    "    if R.getAnnotation('subsystem') != None and R.getAnnotation('subsystem') not in subsystems:\n",
    "        subsystems.append(R.getAnnotation('subsystem'))\n",
    "subsystems.sort()\n",
    "print('subsystems', subsystems)"
   ]
  },
  {
   "cell_type": "markdown",
   "metadata": {},
   "source": [
    "We would like to convert these subsystems into and SBML Group. In its most basic form a Group is a, possibly, arbitrary collection of objects which can be collectively treated as a single object for annotation purposes, thus Groups do not effect the evaluation of a model but rather the human interpretation of its elements. Further properties of Groups will be shown below.\n",
    "\n",
    "Let's begin by simply creating four groups."
   ]
  },
  {
   "cell_type": "code",
   "execution_count": null,
   "metadata": {
    "collapsed": false
   },
   "outputs": [],
   "source": [
    "for s in subsystems:\n",
    "    cmod.createGroup(s)\n",
    "\n",
    "print('GroupIds', cmod.getGroupIds())"
   ]
  },
  {
   "cell_type": "markdown",
   "metadata": {},
   "source": [
    "Now that we have our groups we can add reaction objects. Note that in CBMPy the object itself is added to the Group. We begin by adding R23 and R24 to C4 manually."
   ]
  },
  {
   "cell_type": "code",
   "execution_count": null,
   "metadata": {
    "collapsed": true
   },
   "outputs": [],
   "source": [
    "C4 = cmod.getGroup('C4')"
   ]
  },
  {
   "cell_type": "code",
   "execution_count": null,
   "metadata": {
    "collapsed": false
   },
   "outputs": [],
   "source": [
    "C4.addMember(cmod.getReaction('R23'))\n",
    "C4.addMember(cmod.getReaction('R24'))\n",
    "print('C4 member ids', C4.getMemberIDs())"
   ]
  },
  {
   "cell_type": "markdown",
   "metadata": {},
   "source": [
    "Of course this can easily be scripted so we will delete the C4 members and do everything at once."
   ]
  },
  {
   "cell_type": "code",
   "execution_count": null,
   "metadata": {
    "collapsed": false
   },
   "outputs": [],
   "source": [
    "C4.deleteMember('R23')\n",
    "C4.deleteMember('R24')\n",
    "print('C4 member ids', C4.getMemberIDs())"
   ]
  },
  {
   "cell_type": "code",
   "execution_count": null,
   "metadata": {
    "collapsed": false
   },
   "outputs": [],
   "source": [
    "for R in cmod.reactions:\n",
    "    if R.getAnnotation('subsystem') != None:\n",
    "        print(R.getId(), R.getAnnotation('subsystem'))\n",
    "        cmod.getGroup(R.getAnnotation('subsystem')).addMember(R)\n",
    "        R.deleteAnnotation('subsystem')\n",
    "        "
   ]
  },
  {
   "cell_type": "code",
   "execution_count": null,
   "metadata": {
    "collapsed": false
   },
   "outputs": [],
   "source": [
    "for G in cmod.groups:\n",
    "    print(G.getId(), G.getMemberIDs())"
   ]
  },
  {
   "cell_type": "markdown",
   "metadata": {},
   "source": [
    "Excellent. We now have have groups of reactions but how can we label them as being a subsystem, there are various ways, we could use the Group `name` or `notes` field, CBMPy annotation or even use the (systems biology ontology) SBO or GO term to describe the pathway. Let's try a combination of these."
   ]
  },
  {
   "cell_type": "code",
   "execution_count": null,
   "metadata": {
    "collapsed": true
   },
   "outputs": [],
   "source": [
    "for G in cmod.groups:\n",
    "    G.setName(G.getId()) # sets the group name to its initial ID\n",
    "    G.setNotes('subsystem')\n",
    "    G.setAnnotation('subsystem', True)\n",
    "    G.setSBOterm('SBO:0000000') # as an example, this is not a meaningful SBO term\n"
   ]
  },
  {
   "cell_type": "markdown",
   "metadata": {},
   "source": [
    "What we have been doing here is labelling the group itself, not the individual members of the group (no inheritance). If we would actually like the members of the group to be labelled/annotated using the Group as a superclass then we need to set the member annotation directly. Again using the C4 Group we can either set the `shared` properties directly:"
   ]
  },
  {
   "cell_type": "code",
   "execution_count": null,
   "metadata": {
    "collapsed": false
   },
   "outputs": [],
   "source": [
    "print(C4.getMemberIDs())\n",
    "C4.setSharedNotes('subsystem')"
   ]
  },
  {
   "cell_type": "code",
   "execution_count": null,
   "metadata": {
    "collapsed": false
   },
   "outputs": [],
   "source": [
    "print('C4 shared', C4.getSharedNotes())\n",
    "print('R23 notes', cmod.getReaction('R23').getNotes())\n",
    "print('R24 notes', cmod.getReaction('R24').getNotes())"
   ]
  },
  {
   "cell_type": "markdown",
   "metadata": {},
   "source": [
    "Currently the new `notes` annotation is an annotation to the group's list of members. This is the normal Groups behaviour, in addition, CBMPy provides functionality that allows one to push the annotation to the group's member objects. In this case not overwriting any existing `notes` (if they exist), only adding them to members where the attribute is undefined (set with the flag `overwrite=False`)."
   ]
  },
  {
   "cell_type": "code",
   "execution_count": null,
   "metadata": {
    "collapsed": false
   },
   "outputs": [],
   "source": [
    "C4.assignSharedNotesToMembers(overwrite=False)\n",
    "print('C4 shared', C4.getSharedNotes())\n",
    "print('R23 notes', cmod.getReaction('R23').getNotes())\n",
    "print('R24 notes', cmod.getReaction('R24').getNotes())"
   ]
  },
  {
   "cell_type": "markdown",
   "metadata": {},
   "source": [
    "Similarly annotations, MIRIAM annotations and SBO terms can be pushed to members, see the group *assignX* methods for more details. Now we can try add an SBO term to the C1 group *without* pushing it to the members."
   ]
  },
  {
   "cell_type": "code",
   "execution_count": null,
   "metadata": {
    "collapsed": true
   },
   "outputs": [],
   "source": [
    "cmod.getGroup('C1').setSharedSBOterm('SBO:0000000') # SBO:0000000 is an example only"
   ]
  },
  {
   "cell_type": "markdown",
   "metadata": {},
   "source": [
    "Groups can be defined as either a \"collection\", \"classification\" or \"partonomy\" by default groups are classified as an (arbitrary) collection:"
   ]
  },
  {
   "cell_type": "code",
   "execution_count": null,
   "metadata": {
    "collapsed": false
   },
   "outputs": [],
   "source": [
    "cmod.getGroup('C2').setKind('partonomy')\n",
    "cmod.getGroup('C3').setKind('classification')\n",
    "\n",
    "print('C1 kind:', cmod.getGroup('C1').getKind())\n",
    "print('C2 kind:', cmod.getGroup('C2').getKind())\n",
    "print('C3 kind:', cmod.getGroup('C3').getKind())"
   ]
  },
  {
   "cell_type": "markdown",
   "metadata": {},
   "source": [
    "Finally, we write the file to an SBML Level 3 FBC version 1 file."
   ]
  },
  {
   "cell_type": "code",
   "execution_count": null,
   "metadata": {
    "collapsed": false
   },
   "outputs": [],
   "source": [
    "cbmpy.writeSBML3FBC(cmod, 'groups_example.xml', add_groups=True)"
   ]
  },
  {
   "cell_type": "markdown",
   "metadata": {
    "collapsed": true
   },
   "source": [
    "This basic introduction of the CBMPy Groups functionality should allow you to create custom groups of objects (including Groups). Additional group functionality is conntinuously being implemented, please see the reference guide and the Group object docstrings and methods for more details. For a final test let's load our saved file that includes the groups data."
   ]
  },
  {
   "cell_type": "code",
   "execution_count": null,
   "metadata": {
    "collapsed": false
   },
   "outputs": [],
   "source": [
    "dmod = cbmpy.readSBML3FBC('groups_example.xml')"
   ]
  },
  {
   "cell_type": "code",
   "execution_count": null,
   "metadata": {
    "collapsed": false
   },
   "outputs": [],
   "source": [
    "print('Group IDs', dmod.getGroupIds())"
   ]
  },
  {
   "cell_type": "code",
   "execution_count": null,
   "metadata": {
    "collapsed": true
   },
   "outputs": [],
   "source": []
  }
 ],
 "metadata": {
  "kernelspec": {
   "display_name": "Python 2",
   "language": "python",
   "name": "python2"
  },
  "language_info": {
   "codemirror_mode": {
    "name": "ipython",
    "version": 2
   },
   "file_extension": ".py",
   "mimetype": "text/x-python",
   "name": "python",
   "nbconvert_exporter": "python",
   "pygments_lexer": "ipython2",
   "version": "2.7.11"
  }
 },
 "nbformat": 4,
 "nbformat_minor": 0
}
